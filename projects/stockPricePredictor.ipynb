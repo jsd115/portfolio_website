{
 "cells": [
  {
   "cell_type": "markdown",
   "metadata": {},
   "source": [
    "# Stock Prediction Using Random Forest Regression"
   ]
  },
  {
   "cell_type": "markdown",
   "metadata": {},
   "source": [
    "Goal: Use yfinance API and Sklearn to predict stock prices\n",
    "\n",
    "Libraries used: \n",
    "* Plotly: https://plotly.com/python/ \n",
    "* Pandas: https://pandas.pydata.org/docs/\n",
    "* Numpy: https://numpy.org/doc/\n",
    "* Sklearn: https://scikit-learn.org/stable/index.html\n",
    "* yfinance: https://pypi.org/project/yfinance/\n",
    "* Matplotlib: https://matplotlib.org/\n",
    "* Statistics: an original python package - https://docs.python.org/3/library/statistics.html\n",
    "\n",
    "I am not a financial professional and this is just for educational purposes and should not be used for financial advice."
   ]
  },
  {
   "cell_type": "markdown",
   "metadata": {},
   "source": [
    "## Import libraries"
   ]
  },
  {
   "cell_type": "code",
   "execution_count": 9,
   "metadata": {},
   "outputs": [],
   "source": [
    "import plotly.express as px\n",
    "import plotly.graph_objs as go\n",
    "import yfinance as yf\n",
    "import pandas as pd\n",
    "import numpy as np\n",
    "import matplotlib.pyplot as plt\n",
    "from sklearn.ensemble import RandomForestRegressor\n",
    "from sklearn.model_selection import train_test_split\n",
    "from sklearn.metrics import mean_squared_error, mean_absolute_error, r2_score\n",
    "import statistics"
   ]
  },
  {
   "cell_type": "code",
   "execution_count": 2,
   "metadata": {},
   "outputs": [
    {
     "name": "stderr",
     "output_type": "stream",
     "text": [
      "[*********************100%%**********************]  1 of 1 completed\n"
     ]
    },
    {
     "data": {
      "text/html": [
       "<div>\n",
       "<style scoped>\n",
       "    .dataframe tbody tr th:only-of-type {\n",
       "        vertical-align: middle;\n",
       "    }\n",
       "\n",
       "    .dataframe tbody tr th {\n",
       "        vertical-align: top;\n",
       "    }\n",
       "\n",
       "    .dataframe thead th {\n",
       "        text-align: right;\n",
       "    }\n",
       "</style>\n",
       "<table border=\"1\" class=\"dataframe\">\n",
       "  <thead>\n",
       "    <tr style=\"text-align: right;\">\n",
       "      <th></th>\n",
       "      <th>Open</th>\n",
       "      <th>High</th>\n",
       "      <th>Low</th>\n",
       "      <th>Close</th>\n",
       "      <th>Adj Close</th>\n",
       "      <th>Volume</th>\n",
       "    </tr>\n",
       "    <tr>\n",
       "      <th>Date</th>\n",
       "      <th></th>\n",
       "      <th></th>\n",
       "      <th></th>\n",
       "      <th></th>\n",
       "      <th></th>\n",
       "      <th></th>\n",
       "    </tr>\n",
       "  </thead>\n",
       "  <tbody>\n",
       "    <tr>\n",
       "      <th>2023-08-14</th>\n",
       "      <td>177.970001</td>\n",
       "      <td>179.690002</td>\n",
       "      <td>177.309998</td>\n",
       "      <td>179.460007</td>\n",
       "      <td>178.753036</td>\n",
       "      <td>43675600</td>\n",
       "    </tr>\n",
       "    <tr>\n",
       "      <th>2023-08-15</th>\n",
       "      <td>178.880005</td>\n",
       "      <td>179.479996</td>\n",
       "      <td>177.050003</td>\n",
       "      <td>177.449997</td>\n",
       "      <td>176.750931</td>\n",
       "      <td>43622600</td>\n",
       "    </tr>\n",
       "    <tr>\n",
       "      <th>2023-08-16</th>\n",
       "      <td>177.130005</td>\n",
       "      <td>178.539993</td>\n",
       "      <td>176.500000</td>\n",
       "      <td>176.570007</td>\n",
       "      <td>175.874420</td>\n",
       "      <td>46964900</td>\n",
       "    </tr>\n",
       "    <tr>\n",
       "      <th>2023-08-17</th>\n",
       "      <td>177.139999</td>\n",
       "      <td>177.509995</td>\n",
       "      <td>173.479996</td>\n",
       "      <td>174.000000</td>\n",
       "      <td>173.314545</td>\n",
       "      <td>66062900</td>\n",
       "    </tr>\n",
       "    <tr>\n",
       "      <th>2023-08-18</th>\n",
       "      <td>172.300003</td>\n",
       "      <td>175.100006</td>\n",
       "      <td>171.960007</td>\n",
       "      <td>174.490005</td>\n",
       "      <td>173.802612</td>\n",
       "      <td>61114200</td>\n",
       "    </tr>\n",
       "  </tbody>\n",
       "</table>\n",
       "</div>"
      ],
      "text/plain": [
       "                  Open        High         Low       Close   Adj Close  \\\n",
       "Date                                                                     \n",
       "2023-08-14  177.970001  179.690002  177.309998  179.460007  178.753036   \n",
       "2023-08-15  178.880005  179.479996  177.050003  177.449997  176.750931   \n",
       "2023-08-16  177.130005  178.539993  176.500000  176.570007  175.874420   \n",
       "2023-08-17  177.139999  177.509995  173.479996  174.000000  173.314545   \n",
       "2023-08-18  172.300003  175.100006  171.960007  174.490005  173.802612   \n",
       "\n",
       "              Volume  \n",
       "Date                  \n",
       "2023-08-14  43675600  \n",
       "2023-08-15  43622600  \n",
       "2023-08-16  46964900  \n",
       "2023-08-17  66062900  \n",
       "2023-08-18  61114200  "
      ]
     },
     "execution_count": 2,
     "metadata": {},
     "output_type": "execute_result"
    }
   ],
   "source": [
    "test_data = yf.download('AAPL', period='1y')\n",
    "test_data.head()"
   ]
  },
  {
   "cell_type": "code",
   "execution_count": 4,
   "metadata": {},
   "outputs": [
    {
     "name": "stdout",
     "output_type": "stream",
     "text": [
      "X_test type:  <class 'pandas.core.series.Series'>  Predictions type:  <class 'numpy.ndarray'>\n"
     ]
    }
   ],
   "source": [
    "# Aggregate features\n",
    "X = test_data\n",
    "y = test_data['Close'].shift(-1).dropna()\n",
    "X = X[:-1]\n",
    "\n",
    "    # Split data\n",
    "X_train, X_test, y_train, y_test = train_test_split(X, y, test_size=0.2, random_state=42)\n",
    "\n",
    "    # Model\n",
    "model = RandomForestRegressor(n_estimators=100, random_state=42)\n",
    "model.fit(X_train, y_train)\n",
    "predictions = model.predict(X_test)\n",
    "\n",
    "print('X_test type: ', type(y_test), ' Predictions type: ', type(predictions))"
   ]
  },
  {
   "cell_type": "code",
   "execution_count": 5,
   "metadata": {},
   "outputs": [
    {
     "data": {
      "text/plain": [
       "numpy.ndarray"
      ]
     },
     "execution_count": 5,
     "metadata": {},
     "output_type": "execute_result"
    }
   ],
   "source": [
    "y_test_array = y_test.values\n",
    "type(y_test_array)"
   ]
  },
  {
   "cell_type": "code",
   "execution_count": 7,
   "metadata": {},
   "outputs": [
    {
     "data": {
      "text/html": [
       "<div>\n",
       "<style scoped>\n",
       "    .dataframe tbody tr th:only-of-type {\n",
       "        vertical-align: middle;\n",
       "    }\n",
       "\n",
       "    .dataframe tbody tr th {\n",
       "        vertical-align: top;\n",
       "    }\n",
       "\n",
       "    .dataframe thead th {\n",
       "        text-align: right;\n",
       "    }\n",
       "</style>\n",
       "<table border=\"1\" class=\"dataframe\">\n",
       "  <thead>\n",
       "    <tr style=\"text-align: right;\">\n",
       "      <th></th>\n",
       "      <th>Open</th>\n",
       "      <th>High</th>\n",
       "      <th>Low</th>\n",
       "      <th>Close</th>\n",
       "      <th>Adj Close</th>\n",
       "      <th>Volume</th>\n",
       "    </tr>\n",
       "    <tr>\n",
       "      <th>Date</th>\n",
       "      <th></th>\n",
       "      <th></th>\n",
       "      <th></th>\n",
       "      <th></th>\n",
       "      <th></th>\n",
       "      <th></th>\n",
       "    </tr>\n",
       "  </thead>\n",
       "  <tbody>\n",
       "    <tr>\n",
       "      <th>2024-03-07</th>\n",
       "      <td>169.149994</td>\n",
       "      <td>170.729996</td>\n",
       "      <td>168.490005</td>\n",
       "      <td>169.000000</td>\n",
       "      <td>168.771088</td>\n",
       "      <td>71765100</td>\n",
       "    </tr>\n",
       "    <tr>\n",
       "      <th>2023-08-22</th>\n",
       "      <td>177.059998</td>\n",
       "      <td>177.679993</td>\n",
       "      <td>176.250000</td>\n",
       "      <td>177.229996</td>\n",
       "      <td>176.531799</td>\n",
       "      <td>42084200</td>\n",
       "    </tr>\n",
       "    <tr>\n",
       "      <th>2024-01-02</th>\n",
       "      <td>187.149994</td>\n",
       "      <td>188.440002</td>\n",
       "      <td>183.889999</td>\n",
       "      <td>185.639999</td>\n",
       "      <td>185.152283</td>\n",
       "      <td>82488700</td>\n",
       "    </tr>\n",
       "    <tr>\n",
       "      <th>2023-11-07</th>\n",
       "      <td>179.179993</td>\n",
       "      <td>182.440002</td>\n",
       "      <td>178.970001</td>\n",
       "      <td>181.820007</td>\n",
       "      <td>181.103714</td>\n",
       "      <td>70530000</td>\n",
       "    </tr>\n",
       "    <tr>\n",
       "      <th>2024-01-24</th>\n",
       "      <td>195.419998</td>\n",
       "      <td>196.380005</td>\n",
       "      <td>194.339996</td>\n",
       "      <td>194.500000</td>\n",
       "      <td>193.988998</td>\n",
       "      <td>53631300</td>\n",
       "    </tr>\n",
       "  </tbody>\n",
       "</table>\n",
       "</div>"
      ],
      "text/plain": [
       "                  Open        High         Low       Close   Adj Close  \\\n",
       "Date                                                                     \n",
       "2024-03-07  169.149994  170.729996  168.490005  169.000000  168.771088   \n",
       "2023-08-22  177.059998  177.679993  176.250000  177.229996  176.531799   \n",
       "2024-01-02  187.149994  188.440002  183.889999  185.639999  185.152283   \n",
       "2023-11-07  179.179993  182.440002  178.970001  181.820007  181.103714   \n",
       "2024-01-24  195.419998  196.380005  194.339996  194.500000  193.988998   \n",
       "\n",
       "              Volume  \n",
       "Date                  \n",
       "2024-03-07  71765100  \n",
       "2023-08-22  42084200  \n",
       "2024-01-02  82488700  \n",
       "2023-11-07  70530000  \n",
       "2024-01-24  53631300  "
      ]
     },
     "execution_count": 7,
     "metadata": {},
     "output_type": "execute_result"
    }
   ],
   "source": [
    "X_test.head()"
   ]
  },
  {
   "cell_type": "markdown",
   "metadata": {},
   "source": [
    "## Get Stock Data"
   ]
  },
  {
   "cell_type": "code",
   "execution_count": 2,
   "metadata": {},
   "outputs": [],
   "source": [
    "# Define Function\n",
    "def fetch_data(ticker, period='1y'):\n",
    "    # Download data\n",
    "    stock_data = yf.download(ticker, period=period)\n",
    "\n",
    "    # Return df\n",
    "    return stock_data"
   ]
  },
  {
   "cell_type": "markdown",
   "metadata": {},
   "source": [
    "## Calculate RSI"
   ]
  },
  {
   "cell_type": "markdown",
   "metadata": {},
   "source": [
    "RSI is a technical indicator that indicates buying trends and can define a stock as over or underbought. "
   ]
  },
  {
   "cell_type": "code",
   "execution_count": 3,
   "metadata": {},
   "outputs": [],
   "source": [
    "# Define RSI Function\n",
    "def calculate_rsi(data, window=14):\n",
    "    # Calculate difference between each row\n",
    "    delta = data['Close'].diff()\n",
    "\n",
    "    # Isolate where the stock gains and lost \n",
    "    gain = (delta.where(delta > 0, 0)).fillna(0)\n",
    "    loss = (-delta.where(delta < 0, 0)).fillna(0)\n",
    "\n",
    "    # Calculate the rolling average using a window of 14 which is standard for RSI\n",
    "    avg_gain = gain.rolling(window=window).mean()\n",
    "    avg_loss = loss.rolling(window=window).mean()\n",
    "\n",
    "    # Calculate RSI\n",
    "    rs = avg_gain / avg_loss\n",
    "    rsi = 100 - (100 / (1 + rs))\n",
    "\n",
    "    # Return RSI\n",
    "    return rsi"
   ]
  },
  {
   "cell_type": "markdown",
   "metadata": {},
   "source": [
    "## Calculate Bollinger Bands"
   ]
  },
  {
   "cell_type": "code",
   "execution_count": 4,
   "metadata": {},
   "outputs": [],
   "source": [
    "# Calculate Bollinger Bands\n",
    "def calculate_bollinger_bands(data, window=20):\n",
    "    # Calculate rolling average and standard deviation\n",
    "    sma = data['Close'].rolling(window=window).mean()\n",
    "    std = data['Close'].rolling(window=window).std()\n",
    "\n",
    "    # Calculate bolling bands \n",
    "    bollinger_upper = sma + (std * 2)\n",
    "    bollinger_lower = sma - (std * 2)\n",
    "\n",
    "    # Return values\n",
    "    return bollinger_upper, bollinger_lower"
   ]
  },
  {
   "cell_type": "markdown",
   "metadata": {},
   "source": [
    "## Calculate SMA"
   ]
  },
  {
   "cell_type": "code",
   "execution_count": 5,
   "metadata": {},
   "outputs": [],
   "source": [
    "# Define SMA function\n",
    "def calculate_sma(data, window):\n",
    "    # Calculate SMA\n",
    "    sma = data['Close'].rolling(window=window).mean()\n",
    "\n",
    "    # Return SMA\n",
    "    return sma"
   ]
  },
  {
   "cell_type": "markdown",
   "metadata": {},
   "source": [
    "## Calculate EMA"
   ]
  },
  {
   "cell_type": "code",
   "execution_count": 6,
   "metadata": {},
   "outputs": [],
   "source": [
    "# Define EMA function\n",
    "def calculate_ema(data):\n",
    "    span = 14 \n",
    "    # Perform exponential weighted functions\n",
    "    ema = data['Close'].ewm(span=span, adjust=False).mean()\n",
    "\n",
    "    # Return value\n",
    "    return ema"
   ]
  },
  {
   "cell_type": "markdown",
   "metadata": {},
   "source": [
    "## Add features"
   ]
  },
  {
   "cell_type": "code",
   "execution_count": 7,
   "metadata": {},
   "outputs": [],
   "source": [
    "# Functions for first group of features\n",
    "def add_indicators1(data):\n",
    "    # Call RSI\n",
    "    data['RSI'] = calculate_rsi(data)\n",
    "    # Call EMA\n",
    "    data['ema'] = calculate_ema(data)\n",
    "    # Call SMA with window = 20\n",
    "    data['SMA_20'] = calculate_sma(data, 20)\n",
    "    # Call SMA with window = 50\n",
    "    data['SMA_50'] = calculate_sma(data, 50)\n",
    "    # Call Bolinger Bands Function\n",
    "    data['Bollinger_Upper'], data['Bollinger_Lower'] = calculate_bollinger_bands(data)\n",
    "    # Gather Volume data\n",
    "    data['Volume'] = data['Volume']\n",
    "    data = data.dropna()\n",
    "    return data"
   ]
  },
  {
   "cell_type": "markdown",
   "metadata": {},
   "source": [
    "## Predict Stock Prices and Errors"
   ]
  },
  {
   "cell_type": "code",
   "execution_count": 8,
   "metadata": {},
   "outputs": [],
   "source": [
    "# Define function\n",
    "def return_accuracy_measures(data, features):\n",
    "    # Aggregate features\n",
    "    X = data[features]\n",
    "    y = data['Close'].shift(-1).dropna()\n",
    "    X = X[:-1]\n",
    "\n",
    "    # Split data\n",
    "    X_train, X_test, y_train, y_test = train_test_split(X, y, test_size=0.2, random_state=42)\n",
    "\n",
    "    # Model\n",
    "    model = RandomForestRegressor(n_estimators=100, random_state=42)\n",
    "    model.fit(X_train, y_train)\n",
    "    predictions = model.predict(X_test)\n",
    "\n",
    "    # Evaluation\n",
    "    mse = mean_squared_error(y_test, predictions)\n",
    "    mae = mean_absolute_error(y_test, predictions)\n",
    "    r2 = r2_score(y_test, predictions)\n",
    "\n",
    "    # Create traces for each stock\n",
    "    # trace_a = go.Scatter(x=data['Date'], y=y_test, mode='lines', name='Actual Prices')\n",
    "    # trace_b = go.Scatter(x=data['Date'], y=predictions, mode='lines', name='Predicted Prices')\n",
    "\n",
    "    # Create the layout\n",
    "    #layout = go.Layout(\n",
    "        #title='Stock Prices Over Time',\n",
    "        #xaxis=dict(title='Date'),\n",
    "        #yaxis=dict(title='Price'),\n",
    "        #template='plotly_dark'\n",
    "    #)\n",
    "\n",
    "    # Create the figure\n",
    "    #fig = go.Figure(data=[trace_a, trace_b], layout=layout)\n",
    "    \n",
    "    # Return errors\n",
    "    return mse, mae, r2"
   ]
  },
  {
   "cell_type": "code",
   "execution_count": 9,
   "metadata": {},
   "outputs": [],
   "source": [
    "# Define function to get the accuracy as well as stock data all in one\n",
    "def get_accuracy(ticker, features):\n",
    "    data = fetch_data(ticker)\n",
    "    data = add_indicators1(data)\n",
    "    mse, mae, r2 = return_accuracy_measures(data, features)\n",
    "    return mse, mae, r2"
   ]
  },
  {
   "cell_type": "markdown",
   "metadata": {},
   "source": [
    "## Test the model"
   ]
  },
  {
   "cell_type": "code",
   "execution_count": 10,
   "metadata": {},
   "outputs": [
    {
     "name": "stderr",
     "output_type": "stream",
     "text": [
      "[*********************100%%**********************]  1 of 1 completed\n"
     ]
    },
    {
     "name": "stdout",
     "output_type": "stream",
     "text": [
      "MSE: 1880.7994288153352, MAE: 34.08260206269057, R^2: 0.986498715593811\n"
     ]
    }
   ],
   "source": [
    "# Select S&P 500 as test ticker\n",
    "ticker = '^SPX'\n",
    "\n",
    "# First Group of Features\n",
    "features1 = ['RSI', 'SMA_20', 'SMA_50', 'Bollinger_Upper', 'Bollinger_Lower', 'Volume']\n",
    "mse, mae, r2 = get_accuracy(ticker, features1)\n",
    "\n",
    "# Model Metrics\n",
    "print(f\"MSE: {mse}, MAE: {mae}, R^2: {r2}\")"
   ]
  },
  {
   "cell_type": "markdown",
   "metadata": {},
   "source": [
    "## Applying the model to a diverse range of stocks"
   ]
  },
  {
   "cell_type": "code",
   "execution_count": 11,
   "metadata": {},
   "outputs": [],
   "source": [
    "# Define arrays for errors\n",
    "mse_array = []\n",
    "mae_array = []\n",
    "r2_array = []"
   ]
  },
  {
   "cell_type": "markdown",
   "metadata": {},
   "source": [
    "I selected these 22 stocks because they provide a diverse group of stocks from the S&P 500, allowing the model to prove its accuracy across industries. "
   ]
  },
  {
   "cell_type": "code",
   "execution_count": 12,
   "metadata": {},
   "outputs": [
    {
     "data": {
      "text/plain": [
       "22"
      ]
     },
     "execution_count": 12,
     "metadata": {},
     "output_type": "execute_result"
    }
   ],
   "source": [
    "# Create a diverse array of tickers\n",
    "# there are 2 from each of the 11 sectors of the S&P 500\n",
    "tickers_array = ['LLY', 'UNH', 'MSFT', 'AAPL', 'V', 'JPM', 'NKE', 'BKNG', 'VZ', 'DIS', 'GE', 'CAT', 'PG', 'WMT', 'XOM', 'VLO', 'NEE', 'SRE', 'PLD', 'AMT', 'LIN', 'FCX']\n",
    "len(tickers_array)"
   ]
  },
  {
   "cell_type": "code",
   "execution_count": 13,
   "metadata": {},
   "outputs": [
    {
     "name": "stderr",
     "output_type": "stream",
     "text": [
      "[*********************100%%**********************]  1 of 1 completed\n",
      "[*********************100%%**********************]  1 of 1 completed\n",
      "[*********************100%%**********************]  1 of 1 completed\n",
      "[*********************100%%**********************]  1 of 1 completed\n",
      "[*********************100%%**********************]  1 of 1 completed\n",
      "[*********************100%%**********************]  1 of 1 completed\n",
      "[*********************100%%**********************]  1 of 1 completed\n",
      "[*********************100%%**********************]  1 of 1 completed\n",
      "[*********************100%%**********************]  1 of 1 completed\n",
      "[*********************100%%**********************]  1 of 1 completed\n",
      "[*********************100%%**********************]  1 of 1 completed\n",
      "[*********************100%%**********************]  1 of 1 completed\n",
      "[*********************100%%**********************]  1 of 1 completed\n",
      "[*********************100%%**********************]  1 of 1 completed\n",
      "[*********************100%%**********************]  1 of 1 completed\n",
      "[*********************100%%**********************]  1 of 1 completed\n",
      "[*********************100%%**********************]  1 of 1 completed\n",
      "[*********************100%%**********************]  1 of 1 completed\n",
      "[*********************100%%**********************]  1 of 1 completed\n",
      "[*********************100%%**********************]  1 of 1 completed\n",
      "[*********************100%%**********************]  1 of 1 completed\n",
      "[*********************100%%**********************]  1 of 1 completed\n"
     ]
    }
   ],
   "source": [
    "# Iterate through the tickers in the array and get the accuracy of the model across them\n",
    "for ticker in tickers_array:\n",
    "    mse_ticker, mae_ticker, r2_ticker = get_accuracy(ticker, features1)\n",
    "    mse_array.append(mse_ticker)\n",
    "    mae_array.append(mae_ticker)\n",
    "    r2_array.append(r2_ticker)"
   ]
  },
  {
   "cell_type": "code",
   "execution_count": 14,
   "metadata": {},
   "outputs": [],
   "source": [
    "# Calculate the mean error from the arrays \n",
    "mse_mean1 = statistics.fmean(mse_array)\n",
    "mae_mean1 = statistics.fmean(mae_array)\n",
    "r2_mean1 = statistics.fmean(r2_array)"
   ]
  },
  {
   "cell_type": "code",
   "execution_count": 15,
   "metadata": {},
   "outputs": [
    {
     "name": "stdout",
     "output_type": "stream",
     "text": [
      "('Means for MSE: ', 205.26539453335053, ', MAE: ', 4.778322167830034, ', R^2: ', 0.943526662663957, '. This is with features: RSI, SMA_20, SMA_50, Bollinger_Upper, Bollinger_Lower, Volume.')\n"
     ]
    }
   ],
   "source": [
    "# Print the results from the first model\n",
    "results1 = 'Means for MSE: ', mse_mean1, ', MAE: ', mae_mean1, ', R^2: ', r2_mean1, '. This is with features: RSI, SMA_20, SMA_50, Bollinger_Upper, Bollinger_Lower, Volume.'\n",
    "print(results1)"
   ]
  },
  {
   "cell_type": "markdown",
   "metadata": {},
   "source": [
    "## Second Model"
   ]
  },
  {
   "cell_type": "code",
   "execution_count": 16,
   "metadata": {},
   "outputs": [],
   "source": [
    "# Add ATR to the model\n",
    "features2 = []\n",
    "features2 = features1\n",
    "features2.append('ATR')"
   ]
  },
  {
   "cell_type": "code",
   "execution_count": 17,
   "metadata": {},
   "outputs": [],
   "source": [
    "# Define function to calculate ATR\n",
    "def calculate_atr(data):\n",
    "    # Calculate True Range\n",
    "    data['High-Low'] = data['High'] - data['Low']\n",
    "    data['High-PrevClose'] = (data['High'] - data['Close'].shift(1)).abs()\n",
    "    data['Low-PrevClose'] = (data['Low'] - data['Close'].shift(1)).abs()\n",
    "    data['TR'] = data[['High-Low', 'High-PrevClose', 'Low-PrevClose']].max(axis=1)\n",
    "\n",
    "    # Calculate ATR by averging the highest mean from each day in the 14 day period\n",
    "    atr_period = 14\n",
    "    ATR = data['TR'].rolling(window=atr_period).mean()\n",
    "    return ATR"
   ]
  },
  {
   "cell_type": "code",
   "execution_count": 18,
   "metadata": {},
   "outputs": [],
   "source": [
    "# Add ATR to the second group of fetches of data\n",
    "def add_indicators2(data):\n",
    "    data['RSI'] = calculate_rsi(data)\n",
    "    data['ema'] = calculate_ema(data)\n",
    "    data['SMA_20'] = calculate_sma(data, 20)\n",
    "    data['SMA_50'] = calculate_sma(data, 50)\n",
    "    data['ATR'] = calculate_atr(data)\n",
    "    data['Bollinger_Upper'], data['Bollinger_Lower'] = calculate_bollinger_bands(data)\n",
    "    data['Volume'] = data['Volume']\n",
    "    data = data.dropna()\n",
    "    return data"
   ]
  },
  {
   "cell_type": "code",
   "execution_count": 19,
   "metadata": {},
   "outputs": [],
   "source": [
    "# Define the function\n",
    "def test(ticker):\n",
    "    data = fetch_data(ticker)\n",
    "    data = add_indicators2(data)\n",
    "\n",
    "    # Check that ATR was added successfully\n",
    "    print(data.head())"
   ]
  },
  {
   "cell_type": "code",
   "execution_count": 20,
   "metadata": {},
   "outputs": [
    {
     "name": "stderr",
     "output_type": "stream",
     "text": [
      "[*********************100%%**********************]  1 of 1 completed"
     ]
    },
    {
     "name": "stdout",
     "output_type": "stream",
     "text": [
      "                   Open         High          Low        Close    Adj Close  \\\n",
      "Date                                                                          \n",
      "2023-10-04  4233.830078  4268.500000  4220.479980  4263.750000  4263.750000   \n",
      "2023-10-05  4259.310059  4267.129883  4225.910156  4258.189941  4258.189941   \n",
      "2023-10-06  4234.790039  4324.100098  4219.549805  4308.500000  4308.500000   \n",
      "2023-10-09  4289.020020  4341.729980  4283.790039  4335.660156  4335.660156   \n",
      "2023-10-10  4339.750000  4385.459961  4339.640137  4358.240234  4358.240234   \n",
      "\n",
      "                Volume        RSI          ema       SMA_20       SMA_50  \\\n",
      "Date                                                                       \n",
      "2023-10-04  3777600000  20.141090  4322.673658  4374.270508  4435.161797   \n",
      "2023-10-05  3581470000  22.934167  4314.075829  4364.622998  4428.990596   \n",
      "2023-10-06  3902030000  31.962850  4313.332385  4357.173486  4424.412393   \n",
      "2023-10-09  3174630000  37.096388  4316.309422  4349.583496  4419.480996   \n",
      "2023-10-10  3520240000  44.511062  4321.900197  4344.400513  4414.866602   \n",
      "\n",
      "              High-Low  High-PrevClose  Low-PrevClose          TR        ATR  \\\n",
      "Date                                                                           \n",
      "2023-10-04   48.020020       39.049805       8.970215   48.020020  51.776402   \n",
      "2023-10-05   41.219727        3.379883      37.839844   41.219727  50.585658   \n",
      "2023-10-06  104.550293       65.910156      38.640137  104.550293  56.321394   \n",
      "2023-10-09   57.939941       33.229980      24.709961   57.939941  57.822824   \n",
      "2023-10-10   45.819824       49.799805       3.979980   49.799805  57.119245   \n",
      "\n",
      "            Bollinger_Upper  Bollinger_Lower  \n",
      "Date                                          \n",
      "2023-10-04      4555.921958      4192.619058  \n",
      "2023-10-05      4549.550411      4179.695585  \n",
      "2023-10-06      4538.314179      4176.032793  \n",
      "2023-10-09      4520.150886      4179.016106  \n",
      "2023-10-10      4506.696903      4182.104122  \n"
     ]
    },
    {
     "name": "stderr",
     "output_type": "stream",
     "text": [
      "\n"
     ]
    }
   ],
   "source": [
    "test('^SPX')"
   ]
  },
  {
   "cell_type": "markdown",
   "metadata": {},
   "source": [
    "## Get the second accuracy "
   ]
  },
  {
   "cell_type": "code",
   "execution_count": 21,
   "metadata": {},
   "outputs": [],
   "source": [
    "def get_accuracy2(ticker, features):\n",
    "    data = fetch_data(ticker)\n",
    "    data = add_indicators2(data)\n",
    "    mse2, mae2, r22 = return_accuracy_measures(data, features)\n",
    "    return mse2, mae2, r22"
   ]
  },
  {
   "cell_type": "code",
   "execution_count": 22,
   "metadata": {},
   "outputs": [],
   "source": [
    "mse_array2 = []\n",
    "mae_array2 = []\n",
    "r2_array2 = []"
   ]
  },
  {
   "cell_type": "code",
   "execution_count": 23,
   "metadata": {},
   "outputs": [
    {
     "name": "stderr",
     "output_type": "stream",
     "text": [
      "[*********************100%%**********************]  1 of 1 completed\n",
      "[*********************100%%**********************]  1 of 1 completed\n",
      "[*********************100%%**********************]  1 of 1 completed\n",
      "[*********************100%%**********************]  1 of 1 completed\n",
      "[*********************100%%**********************]  1 of 1 completed\n",
      "[*********************100%%**********************]  1 of 1 completed\n",
      "[*********************100%%**********************]  1 of 1 completed\n",
      "[*********************100%%**********************]  1 of 1 completed\n",
      "[*********************100%%**********************]  1 of 1 completed\n",
      "[*********************100%%**********************]  1 of 1 completed\n",
      "[*********************100%%**********************]  1 of 1 completed\n",
      "[*********************100%%**********************]  1 of 1 completed\n",
      "[*********************100%%**********************]  1 of 1 completed\n",
      "[*********************100%%**********************]  1 of 1 completed\n",
      "[*********************100%%**********************]  1 of 1 completed\n",
      "[*********************100%%**********************]  1 of 1 completed\n",
      "[*********************100%%**********************]  1 of 1 completed\n",
      "[*********************100%%**********************]  1 of 1 completed\n",
      "[*********************100%%**********************]  1 of 1 completed\n",
      "[*********************100%%**********************]  1 of 1 completed\n",
      "[*********************100%%**********************]  1 of 1 completed\n",
      "[*********************100%%**********************]  1 of 1 completed\n"
     ]
    }
   ],
   "source": [
    "for ticker in tickers_array:\n",
    "    mse_ticker2, mae_ticker2, r2_ticker2 = get_accuracy2(ticker, features2)\n",
    "    mse_array2.append(mse_ticker2)\n",
    "    mae_array2.append(mae_ticker2)\n",
    "    r2_array2.append(r2_ticker2)"
   ]
  },
  {
   "cell_type": "code",
   "execution_count": 24,
   "metadata": {},
   "outputs": [],
   "source": [
    "mse_mean2 = statistics.fmean(mse_array2)\n",
    "mae_mean2 = statistics.fmean(mae_array2)\n",
    "r2_mean2 = statistics.fmean(r2_array2)"
   ]
  },
  {
   "cell_type": "code",
   "execution_count": 25,
   "metadata": {},
   "outputs": [
    {
     "name": "stdout",
     "output_type": "stream",
     "text": [
      "('Means for MSE: ', 227.62813201608333, ', MAE: ', 4.920219143552422, ', R^2: ', 0.9437758026260433, '. This is with features: RSI, SMA_20, SMA_50, Bollinger_Upper, Bollinger_Lower, Volume, ATR.')\n"
     ]
    }
   ],
   "source": [
    "results2 = 'Means for MSE: ', mse_mean2, ', MAE: ', mae_mean2, ', R^2: ', r2_mean2, '. This is with features: RSI, SMA_20, SMA_50, Bollinger_Upper, Bollinger_Lower, Volume, ATR.'\n",
    "print(results2)"
   ]
  }
 ],
 "metadata": {
  "kernelspec": {
   "display_name": "Python 3",
   "language": "python",
   "name": "python3"
  },
  "language_info": {
   "codemirror_mode": {
    "name": "ipython",
    "version": 3
   },
   "file_extension": ".py",
   "mimetype": "text/x-python",
   "name": "python",
   "nbconvert_exporter": "python",
   "pygments_lexer": "ipython3",
   "version": "3.11.1"
  }
 },
 "nbformat": 4,
 "nbformat_minor": 2
}
